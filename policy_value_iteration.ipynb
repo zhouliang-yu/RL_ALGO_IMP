{
  "cells": [
    {
      "cell_type": "markdown",
      "metadata": {
        "id": "r2bzuwfRwlvG"
      },
      "source": [
        "# Introduction to Open AI Gym \n",
        "[OpenAI Gym](https://gym.openai.com/) aims to provide an easy-to-setup general-intelligence benchmark with a wide variety of different environments. The goal is to standardize how environments are defined in AI research publications so that published research becomes more easily reproducible. The project claims to provide the user with a simple interface. \n",
        "\n",
        "### Looking at Gym Environments\n",
        "\n",
        "The centerpiece of Gym is the environment, which defines the \"game\" in which your reinforcement algorithm will compete.  An environment does not need to be a game; however, it describes the following game-like features:\n",
        "* **action space**: What actions can we take on the environment, at each step/episode, to alter the environment.\n",
        "* **observation space**: What is the current state of the portion of the environment that we can observe. Usually, we can see the entire environment.\n",
        "\n",
        "Before we begin to look at Gym, it is essential to understand some of the terminology used by this library.\n",
        "\n",
        "* **Agent** - The machine learning program or model that controls the actions.\n",
        "Step - One round of issuing actions that affect the observation space.\n",
        "* **Episode** - A collection of steps that terminates when the agent fails to meet the environment's objective, or the episode reaches the maximum number of allowed steps.\n",
        "* **Render** - Gym can render one frame for display after each episode.\n",
        "* **Reward** - A positive reinforcement that can occur at the end of each episode, after the agent acts.\n",
        "* **Nondeterministic** - For some environments, randomness is a factor in deciding what effects actions have on reward and changes to the observation space.\n",
        "\n",
        "It is important to note that many of the gym environments specify that they are not nondeterministic even though they make use of random numbers to process actions. It is generally agreed upon (based on the gym GitHub issue tracker) that nondeterministic property means that a deterministic environment will still behave randomly even when given consistent seed value. The seed method of an environment can be used by the program to seed the random number generator for the environment.\n",
        "\n",
        "Altough Google Colab does not allow us to render each environment, you can take a look at the environment at [OpenAI Gym Environments](https://gym.openai.com/envs/#classic_control)\n",
        "\n",
        "The Gym library allows us to query some of these attributes from environments. We will begin by looking at the FrozenLake-v0 environment. The RL agent will control the movement of a character in a grid world. Some tiles of the grid are walkable, and others lead to the agent falling into the water. Additionally, the movement direction of the agent is uncertain and only partially depends on the chosen direction. The agent is rewarded for finding a walkable path to a goal tile."
      ]
    },
    {
      "cell_type": "code",
      "execution_count": null,
      "metadata": {
        "colab": {
          "base_uri": "https://localhost:8080/"
        },
        "id": "52bUeKeXxEN1",
        "outputId": "a3f2b8f7-83c5-4dd8-aae6-03a48b4199b2"
      },
      "outputs": [
        {
          "output_type": "stream",
          "name": "stdout",
          "text": [
            "Action Space: Discrete(4)\n",
            "Observation Space: Discrete(16)\n",
            "Max Episode Steps: 100\n",
            "Nondeterministic: False\n",
            "Reward Range: (0, 1)\n",
            "Reward Threshold: 0.78\n"
          ]
        }
      ],
      "source": [
        "import gym\n",
        "import time\n",
        "import numpy\n",
        "import matplotlib.pyplot as plt\n",
        "\n",
        "def query_environment(name):\n",
        "  env = gym.make(name)\n",
        "  spec = gym.spec(name)\n",
        "  print(f\"Action Space: {env.action_space}\")\n",
        "  print(f\"Observation Space: {env.observation_space}\")\n",
        "  print(f\"Max Episode Steps: {spec.max_episode_steps}\")\n",
        "  print(f\"Nondeterministic: {spec.nondeterministic}\")\n",
        "  print(f\"Reward Range: {env.reward_range}\")\n",
        "  print(f\"Reward Threshold: {spec.reward_threshold}\")\n",
        "\n",
        "query_environment(\"FrozenLake-v0\")"
      ]
    },
    {
      "cell_type": "markdown",
      "metadata": {
        "id": "usLMbZjFxZqB"
      },
      "source": [
        "The agent moves through a $4 \\times 4$ gridworld, with states numbered as follows:\n",
        "```\n",
        "[[ 0  1  2  3]\n",
        " [ 4  5  6  7]\n",
        " [ 8  9 10 11]\n",
        " [12 13 14 15]]\n",
        "```\n",
        "Each state can be categorized into the following states\n",
        "```\n",
        "SFFF       (S: starting point, safe)\n",
        "FHFH       (F: frozen surface, safe)\n",
        "FFFH       (H: hole, fall to your doom)\n",
        "HFFG       (G: goal, where the frisbee is located)\n",
        "```\n",
        "The agent has 4 potential actions:\n",
        "```\n",
        "LEFT = 0\n",
        "DOWN = 1\n",
        "RIGHT = 2\n",
        "UP = 3\n",
        "```\n",
        "\n",
        "Thus, $\\mathcal{S}^+ = \\{0, 1, \\ldots, 15\\}$, and $\\mathcal{A} = \\{0, 1, 2, 3\\}$.  "
      ]
    },
    {
      "cell_type": "markdown",
      "metadata": {
        "id": "qB2apmzV0VE_"
      },
      "source": [
        "# Value Iteration\n",
        "\n",
        "Now we are going to instance a Fronzen lake environment, and try to implement Value itertaions. \n",
        "\n",
        "**You need to implement the code at where is labeled ``TODO:''**"
      ]
    },
    {
      "cell_type": "code",
      "execution_count": null,
      "metadata": {
        "id": "WziUYeH21Kgi"
      },
      "outputs": [],
      "source": [
        "def valueIteration(env, gamma=1.0, iteration=10000, eps=1e-20):\n",
        "    value = numpy.zeros(env.nS)\n",
        "    # Start Iteration\n",
        "    for i in range(iteration):\n",
        "        previous_value = value.copy()\n",
        "        for state in range(env.nS):\n",
        "            Q = []\n",
        "            for action in range(env.nA):\n",
        "                outcomes  = [] #next_state_reward\n",
        "          # TODO: Loop through all outcomes of performing that action and calculate the Q values\n",
        "                for probability, nextstate, reward, done in env.P[state][action]:\n",
        "                    outcomes.append(probability*(reward+gamma*previous_value[nextstate]))\n",
        "                    Q.append(numpy.sum(outcomes)) #the value of each action\n",
        "          # TODO: Calculate the value function\n",
        "                    value[state] = max(Q)\n",
        "    if(numpy.sum(numpy.fabs(previous_value - value)) <= eps):\n",
        "        return value\n",
        "\n",
        "    print(\"Iterated over %d Iterations and couldn't converge\"%(iteration))\n",
        "    return value"
      ]
    },
    {
      "cell_type": "code",
      "execution_count": null,
      "metadata": {
        "id": "1bhoY6iS1Z0m"
      },
      "outputs": [],
      "source": [
        "def calculatePolicy(env, v, gamma=1.0):\n",
        "    policy = numpy.zeros(env.nS)\n",
        "    for state in range(env.nS):\n",
        "        Q = numpy.zeros(env.nA)\n",
        "        for action in range(env.nA):\n",
        "            # Reset all outcomes of this particular action\n",
        "                outcomes  = []\n",
        "                # TODO: Loop through all outcomes of performing that action and calculate the Q values\n",
        "                for probability, nextstate, reward, done in env.P[state][action]:\n",
        "                    Q[action] += (probability * (reward + gamma * v[nextstate]))\n",
        "                \n",
        "        # TODO: extract policy \n",
        "        policy[state] = numpy.argmax(Q)\n",
        "    # Step 9: Return policy\n",
        "    return policy"
      ]
    },
    {
      "cell_type": "code",
      "execution_count": null,
      "metadata": {
        "id": "miYR0eCf1k65"
      },
      "outputs": [],
      "source": [
        "def evaluatePolicyOnce(env, policy, gamma=1.0, eps=1e-20):\n",
        "    totalreward = 0\n",
        "    step = 0\n",
        "    start = env.reset()\n",
        "\n",
        "    while True:\n",
        "        action = policy[start]\n",
        "        start, reward, done, _ = env.step(action)\n",
        "\n",
        "        # TODO: Calculate the total reward with the given discount factor\n",
        "        totalreward += reward * (gamma ** step)\n",
        "        step += 1\n",
        "\n",
        "        if done:\n",
        "            break\n",
        "    return totalreward\n",
        "\n",
        "def evaluatePolicy(env, policy, gamma=1.0, iteration=100, render=False, eps=1e-20):\n",
        "    scores = [\n",
        "    evaluatePolicyOnce(env, policy, gamma, eps)\n",
        "        for _ in range(iteration)\n",
        "    ]\n",
        "\n",
        "    return numpy.mean(scores)"
      ]
    },
    {
      "cell_type": "code",
      "execution_count": null,
      "metadata": {
        "id": "YpmdwnGg0pAU"
      },
      "outputs": [],
      "source": [
        "def ValueIterator(env, gamma=1.0, improvementIterations=1000, evaluationIterations=100, eps=1e-20):\n",
        "    optimalValue = valueIteration(env, gamma, improvementIterations, eps)\n",
        "    policy = calculatePolicy(env, optimalValue, gamma)\n",
        "    score = evaluatePolicy(env, policy, gamma, evaluationIterations, eps)\n",
        "    print('Score obtained', score)\n",
        "    print('Best score = %0.2f.'%(numpy.max(score)))"
      ]
    },
    {
      "cell_type": "code",
      "execution_count": null,
      "metadata": {
        "colab": {
          "base_uri": "https://localhost:8080/"
        },
        "id": "Zfl9dhA-002H",
        "outputId": "c3054e0a-b95d-43b5-e3b1-157b32bfe241"
      },
      "outputs": [
        {
          "output_type": "stream",
          "name": "stdout",
          "text": [
            "Score obtained 0.78\n",
            "Best score = 0.78.\n"
          ]
        }
      ],
      "source": [
        "\n",
        "gamma = 1.0\n",
        "game = 'FrozenLake-v0'\n",
        "improvementIterations = 10000\n",
        "evaluationIterations = 100\n",
        "eps = 1e-20\n",
        "numpy.random.seed(0)\n",
        "env = gym.make(game)\n",
        "env.seed(0)\n",
        "\n",
        "env = gym.make(game).env\n",
        "ValueIterator(env=env, gamma=gamma, evaluationIterations=evaluationIterations, improvementIterations=improvementIterations, eps=eps)"
      ]
    },
    {
      "cell_type": "markdown",
      "metadata": {
        "id": "a3uWayYwBP15"
      },
      "source": [
        "We also provide the following code to visualize your calculated value function."
      ]
    },
    {
      "cell_type": "code",
      "execution_count": null,
      "metadata": {
        "id": "6CFNOBvxBXSM",
        "colab": {
          "base_uri": "https://localhost:8080/",
          "height": 373
        },
        "outputId": "4aa26909-89d7-42ef-a9e6-d0e8dc593d4b"
      },
      "outputs": [
        {
          "output_type": "display_data",
          "data": {
            "text/plain": [
              "<Figure size 432x432 with 1 Axes>"
            ],
            "image/png": "[encoded data removed]"
          },
          "metadata": {}
        }
      ],
      "source": [
        "def plot_values(V):\n",
        "\t# reshape value function\n",
        "\tV_sq = numpy.reshape(V, (4,4))\n",
        "\n",
        "\t# plot the state-value function\n",
        "\tfig = plt.figure(figsize=(6, 6))\n",
        "\tax = fig.add_subplot(111)\n",
        "\tim = ax.imshow(V_sq, cmap='cool')\n",
        "\tfor (j,i),label in numpy.ndenumerate(V_sq):\n",
        "\t    ax.text(i, j, numpy.round(label, 5), ha='center', va='center', fontsize=14)\n",
        "\tplt.tick_params(bottom=False, left=False, labelbottom=False, labelleft=False)\n",
        "\tplt.title('State-Value Function')\n",
        "\tplt.show()\n",
        "\n",
        "optimalValue = valueIteration(env, gamma, improvementIterations, eps)\n",
        "plot_values(optimalValue)"
      ]
    },
    {
      "cell_type": "markdown",
      "metadata": {
        "id": "kdRFSRaxCr4R"
      },
      "source": [
        "# Policy Iteration\n",
        "\n",
        "With the Frozen Lake environment, we are also going to try out the policy iteration method. \n",
        "\n",
        "**Again, please implement the code labeled #TODO**"
      ]
    },
    {
      "cell_type": "code",
      "execution_count": null,
      "metadata": {
        "id": "1M8Q6C3BDvRu"
      },
      "outputs": [],
      "source": [
        "\"\"\"Given a policy, extract its corresponding value function\"\"\"\n",
        "def get_value_function(env, policy, eps=1e-20):\n",
        "\n",
        "    value = numpy.zeros(env.nS)\n",
        "\n",
        "    while True:\n",
        "        previous_value = numpy.copy(value)\n",
        "        for state in range(policy.size):\n",
        "            outcomes  = []\n",
        "\n",
        "            # TODO: Extract the action from policy\n",
        "            action = policy[state]\n",
        "\n",
        "            for probability, next_state, reward, is_done in env.P[state][action]:\n",
        "                # TODO: Get all outcomes of that action\n",
        "              outcomes.append(probability * (reward + gamma * previous_value[next_state]))\n",
        "            # TODO: Extract the value function\n",
        "            value[state] = sum(outcomes)\n",
        "        if numpy.sum(numpy.fabs(previous_value - value)) <= eps:\n",
        "            return value\n",
        "\n",
        "    return value"
      ]
    },
    {
      "cell_type": "code",
      "execution_count": null,
      "metadata": {
        "id": "-M3mZxBEDGqe"
      },
      "outputs": [],
      "source": [
        "def policyIteration(env, gamma=1.0, improvementIterations=1000, eps=1e-20):\n",
        "\n",
        "    # Declare a random policy\n",
        "    policy = numpy.random.choice(env.nA, size=(env.nS))\n",
        "\n",
        "    for i in range(improvementIterations):\n",
        "\n",
        "      # TODO: calculate the value function with the previous policy, \n",
        "      #  then use this value function to iterate for an improved pocliy \n",
        "      #  Hint: you've already implemented how to use a value function \n",
        "      #  to calculate a policy in calculatePolicy\n",
        "      pre_val_func = get_value_function(env, policy, eps)\n",
        "      newPolicy = calculatePolicy(env, pre_val_func, gamma)\n",
        "      # If converged\n",
        "      if(numpy.all(policy == newPolicy)):\n",
        "          return policy\n",
        "      policy = newPolicy\n",
        "\n",
        "    print(\"Iterated over %d Iterations and couldn't converge\"%(improvementIterations))\n",
        "    return policy\n"
      ]
    },
    {
      "cell_type": "code",
      "execution_count": null,
      "metadata": {
        "id": "unSN-JxzDa6D",
        "colab": {
          "base_uri": "https://localhost:8080/"
        },
        "outputId": "0266cb78-b4ac-467c-bc8c-181a2bb46170"
      },
      "outputs": [
        {
          "output_type": "stream",
          "name": "stdout",
          "text": [
            "Best score = 0.74. Time taken = 0.0665 seconds\n"
          ]
        }
      ],
      "source": [
        "gamma = 1.0\n",
        "improvementIterations = 10000\n",
        "evaluationIterations = 100\n",
        "eps = 1e-20\n",
        "numpy.random.seed(0)\n",
        "env = gym.make(game)\n",
        "env.seed(0)\n",
        "\n",
        "def PolicyIterator(env, gamma=1.0, improvementIterations=1000, eps=1e-20, evaluationIterations=100):\n",
        "    optimalPolicy = policyIteration(env=env, gamma=gamma, improvementIterations=improvementIterations, eps=eps)\n",
        "    startTime = time.time()\n",
        "    # policy_score = evaluatePolicy(env, policy, gamma=1.0, iteration=100, render=False, eps=1e-20)\n",
        "    policy_score = evaluatePolicy(env=env, policy=optimalPolicy, render=False, gamma=gamma, iteration =evaluationIterations, eps=eps)\n",
        "    endTime = time.time()\n",
        "    print('Best score = %0.2f. Time taken = %4.4f seconds'%(numpy.max(policy_score), endTime - startTime))\n",
        "\n",
        "\n",
        "PolicyIterator(env, gamma, improvementIterations, eps, evaluationIterations)"
      ]
    },
    {
      "cell_type": "markdown",
      "metadata": {
        "id": "UyAVw8XNDyLN"
      },
      "source": [
        "We can also visualize the value function with respect to the policy."
      ]
    },
    {
      "cell_type": "code",
      "execution_count": null,
      "metadata": {
        "colab": {
          "base_uri": "https://localhost:8080/",
          "height": 373
        },
        "id": "zjBUj9j7Dw7b",
        "outputId": "08d422e3-94fc-4882-e075-69ff898c0f3b"
      },
      "outputs": [
        {
          "output_type": "display_data",
          "data": {
            "text/plain": [
              "<Figure size 432x432 with 1 Axes>"
            ],
            "image/png": "[encoded data removed]"
          },
          "metadata": {}
        }
      ],
      "source": [
        "optimalPolicy = policyIteration(env=env, gamma=gamma, improvementIterations=improvementIterations, eps=eps)\n",
        "PolicyValue = get_value_function(env=env, policy=optimalPolicy, eps=eps)\n",
        "\n",
        "plot_values(PolicyValue)"
      ]
    },
    {
      "cell_type": "markdown",
      "metadata": {
        "id": "t9pXQQR_ENT-"
      },
      "source": [
        "#Comparing the value and policy iteration methods.\n",
        "\n",
        "Lastly, please try to play around with the FrozenLake environment with different configurations (gamma, improvement/evaluation iterations, random seed)and with value and policy iteration. Please try your best to get a policy with score as high as possible (though your grades will not be affected by this score). Repeat each experiment with 5 different random seed, then report the highest score you've achieved across the 5 repeats with 1 standard deviation and write (a few sentence) to compare the two iteration methods."
      ]
    },
    {
      "cell_type": "markdown",
      "source": [
        "## **Value Iteration**\n"
      ],
      "metadata": {
        "id": "L7mfJcWiIFt7"
      }
    },
    {
      "cell_type": "code",
      "source": [
        "gamma = 1\n",
        "game = 'FrozenLake-v0'\n",
        "improvementIterations = 10000\n",
        "evaluationIterations = 100\n",
        "eps = 1e-20\n",
        "seed = 10\n",
        "numpy.random.seed(seed)\n",
        "env = gym.make(game)\n",
        "env.seed(seed)\n",
        "\n",
        "env = gym.make(game).env\n",
        "ValueIterator(env=env, gamma=gamma, evaluationIterations=evaluationIterations, improvementIterations=improvementIterations, eps=eps)"
      ],
      "metadata": {
        "colab": {
          "base_uri": "https://localhost:8080/"
        },
        "id": "8__eg4SDH-kV",
        "outputId": "0494a457-724f-465c-fa1f-c36e9c8e1b28"
      },
      "execution_count": null,
      "outputs": [
        {
          "output_type": "stream",
          "name": "stdout",
          "text": [
            "Score obtained 0.87\n",
            "Best score = 0.87.\n"
          ]
        }
      ]
    },
    {
      "cell_type": "code",
      "source": [
        "gamma = 1\n",
        "game = 'FrozenLake-v0'\n",
        "improvementIterations = 10000\n",
        "evaluationIterations = 100\n",
        "eps = 1e-20\n",
        "seed = 9\n",
        "numpy.random.seed(seed)\n",
        "env = gym.make(game)\n",
        "env.seed(seed)\n",
        "\n",
        "env = gym.make(game).env\n",
        "ValueIterator(env=env, gamma=gamma, evaluationIterations=evaluationIterations, improvementIterations=improvementIterations, eps=eps)"
      ],
      "metadata": {
        "colab": {
          "base_uri": "https://localhost:8080/"
        },
        "id": "eFuA-ilzKi0q",
        "outputId": "3cf4cfc7-1151-4cf6-8418-d23130f6045b"
      },
      "execution_count": null,
      "outputs": [
        {
          "output_type": "stream",
          "name": "stdout",
          "text": [
            "Score obtained 0.88\n",
            "Best score = 0.88.\n"
          ]
        }
      ]
    },
    {
      "cell_type": "code",
      "source": [
        "gamma = 1\n",
        "game = 'FrozenLake-v0'\n",
        "improvementIterations = 10000\n",
        "evaluationIterations = 100\n",
        "eps = 1e-20\n",
        "seed = 2\n",
        "numpy.random.seed(seed)\n",
        "env = gym.make(game)\n",
        "env.seed(seed)\n",
        "\n",
        "env = gym.make(game).env\n",
        "ValueIterator(env=env, gamma=gamma, evaluationIterations=evaluationIterations, improvementIterations=improvementIterations, eps=eps)"
      ],
      "metadata": {
        "colab": {
          "base_uri": "https://localhost:8080/"
        },
        "id": "Pr_9QH27OKUf",
        "outputId": "2cf46436-84c3-493f-f1ef-b7bc378f0692"
      },
      "execution_count": null,
      "outputs": [
        {
          "output_type": "stream",
          "name": "stdout",
          "text": [
            "Score obtained 0.79\n",
            "Best score = 0.79.\n"
          ]
        }
      ]
    },
    {
      "cell_type": "code",
      "source": [
        "gamma = 1\n",
        "game = 'FrozenLake-v0'\n",
        "improvementIterations = 10000\n",
        "evaluationIterations = 100\n",
        "eps = 1e-20\n",
        "seed = 8\n",
        "numpy.random.seed(seed)\n",
        "env = gym.make(game)\n",
        "env.seed(seed)\n",
        "\n",
        "env = gym.make(game).env\n",
        "ValueIterator(env=env, gamma=gamma, evaluationIterations=evaluationIterations, improvementIterations=improvementIterations, eps=eps)"
      ],
      "metadata": {
        "colab": {
          "base_uri": "https://localhost:8080/"
        },
        "id": "GVIeij2VKnr6",
        "outputId": "70772bdc-14f7-4fab-a89c-4db86408dda3"
      },
      "execution_count": null,
      "outputs": [
        {
          "output_type": "stream",
          "name": "stdout",
          "text": [
            "Score obtained 0.83\n",
            "Best score = 0.83.\n"
          ]
        }
      ]
    },
    {
      "cell_type": "code",
      "source": [
        "gamma = 1\n",
        "game = 'FrozenLake-v0'\n",
        "improvementIterations = 10000\n",
        "evaluationIterations = 100\n",
        "eps = 1e-20\n",
        "seed = 7\n",
        "numpy.random.seed(seed)\n",
        "env = gym.make(game)\n",
        "env.seed(seed)\n",
        "\n",
        "env = gym.make(game).env\n",
        "ValueIterator(env=env, gamma=gamma, evaluationIterations=evaluationIterations, improvementIterations=improvementIterations, eps=eps)"
      ],
      "metadata": {
        "colab": {
          "base_uri": "https://localhost:8080/"
        },
        "id": "uMpmxYwwNopj",
        "outputId": "f8219339-04f9-4cfe-b257-f49b2be45cfb"
      },
      "execution_count": null,
      "outputs": [
        {
          "output_type": "stream",
          "name": "stdout",
          "text": [
            "Score obtained 0.88\n",
            "Best score = 0.88.\n"
          ]
        }
      ]
    },
    {
      "cell_type": "markdown",
      "source": [
        "## **Policy Iteration**"
      ],
      "metadata": {
        "id": "Y4KGByTeOUpB"
      }
    },
    {
      "cell_type": "code",
      "source": [
        "gamma = 1\n",
        "improvementIterations = 10000\n",
        "evaluationIterations = 100\n",
        "eps = 1e-20\n",
        "seed = 10\n",
        "numpy.random.seed(seed)\n",
        "env = gym.make(game)\n",
        "env.seed(seed)\n",
        "\n",
        "PolicyIterator(env, gamma, improvementIterations, eps, evaluationIterations)"
      ],
      "metadata": {
        "colab": {
          "base_uri": "https://localhost:8080/"
        },
        "id": "pF2ze3FZOYhO",
        "outputId": "02d04a1e-209d-40ca-b707-15626aab2709"
      },
      "execution_count": null,
      "outputs": [
        {
          "output_type": "stream",
          "name": "stdout",
          "text": [
            "Best score = 0.70. Time taken = 0.0745 seconds\n"
          ]
        }
      ]
    },
    {
      "cell_type": "code",
      "source": [
        "gamma = 0.9\n",
        "improvementIterations = 9000\n",
        "evaluationIterations = 100\n",
        "eps = 1e-20\n",
        "seed = 10\n",
        "numpy.random.seed(seed)\n",
        "env = gym.make(game)\n",
        "env.seed(seed)\n",
        "\n",
        "PolicyIterator(env, gamma, improvementIterations, eps, evaluationIterations)"
      ],
      "metadata": {
        "colab": {
          "base_uri": "https://localhost:8080/"
        },
        "id": "UnUt1aMWO56n",
        "outputId": "843e2242-b3b6-416d-f41a-d0bf23c5babb"
      },
      "execution_count": null,
      "outputs": [
        {
          "output_type": "stream",
          "name": "stdout",
          "text": [
            "Best score = 0.05. Time taken = 0.0862 seconds\n"
          ]
        }
      ]
    },
    {
      "cell_type": "code",
      "source": [
        "gamma = 1\n",
        "improvementIterations = 12000\n",
        "evaluationIterations = 100\n",
        "eps = 1e-20\n",
        "seed = 10\n",
        "numpy.random.seed(seed)\n",
        "env = gym.make(game)\n",
        "env.seed(seed)\n",
        "\n",
        "PolicyIterator(env, gamma, improvementIterations, eps, evaluationIterations)"
      ],
      "metadata": {
        "colab": {
          "base_uri": "https://localhost:8080/"
        },
        "id": "rZ3RuQUdO6AN",
        "outputId": "83bbb030-2ed6-4f2e-a832-7d31ab60fb79"
      },
      "execution_count": null,
      "outputs": [
        {
          "output_type": "stream",
          "name": "stdout",
          "text": [
            "Best score = 0.70. Time taken = 0.0676 seconds\n"
          ]
        }
      ]
    },
    {
      "cell_type": "code",
      "source": [
        "gamma = 1\n",
        "improvementIterations = 12000\n",
        "evaluationIterations = 100\n",
        "eps = 1e-20\n",
        "seed = 8\n",
        "numpy.random.seed(seed)\n",
        "env = gym.make(game)\n",
        "env.seed(seed)\n",
        "\n",
        "PolicyIterator(env, gamma, improvementIterations, eps, evaluationIterations)"
      ],
      "metadata": {
        "colab": {
          "base_uri": "https://localhost:8080/"
        },
        "id": "IR4Jrf3kPGCU",
        "outputId": "0f53bc8d-b9d9-42d8-df00-b32b0864597a"
      },
      "execution_count": null,
      "outputs": [
        {
          "output_type": "stream",
          "name": "stdout",
          "text": [
            "Best score = 0.82. Time taken = 0.0711 seconds\n"
          ]
        }
      ]
    },
    {
      "cell_type": "code",
      "source": [
        "gamma = 1\n",
        "improvementIterations = 12000\n",
        "evaluationIterations = 100\n",
        "eps = 1e-20\n",
        "seed = 1\n",
        "numpy.random.seed(seed)\n",
        "env = gym.make(game)\n",
        "env.seed(seed)\n",
        "\n",
        "PolicyIterator(env, gamma, improvementIterations, eps, evaluationIterations)"
      ],
      "metadata": {
        "colab": {
          "base_uri": "https://localhost:8080/"
        },
        "id": "pErsXovhPKV3",
        "outputId": "787c5c33-df2a-4877-92f2-b924de904079"
      },
      "execution_count": null,
      "outputs": [
        {
          "output_type": "stream",
          "name": "stdout",
          "text": [
            "Best score = 0.70. Time taken = 0.0967 seconds\n"
          ]
        }
      ]
    },
    {
      "cell_type": "code",
      "source": [
        "gamma = 1\n",
        "improvementIterations = 12000\n",
        "evaluationIterations = 100\n",
        "eps = 1e-20\n",
        "seed = 9\n",
        "numpy.random.seed(seed)\n",
        "env = gym.make(game)\n",
        "env.seed(seed)\n",
        "\n",
        "PolicyIterator(env, gamma, improvementIterations, eps, evaluationIterations)"
      ],
      "metadata": {
        "colab": {
          "base_uri": "https://localhost:8080/"
        },
        "id": "ppGjHYEzPNCg",
        "outputId": "9f8a44e9-5dcd-4509-99ba-eb34d0ec7a5a"
      },
      "execution_count": null,
      "outputs": [
        {
          "output_type": "stream",
          "name": "stdout",
          "text": [
            "Best score = 0.75. Time taken = 0.0896 seconds\n"
          ]
        }
      ]
    },
    {
      "cell_type": "code",
      "source": [
        "gamma = 1\n",
        "improvementIterations = 12000\n",
        "evaluationIterations = 100\n",
        "eps = 1e-20\n",
        "seed = 7\n",
        "numpy.random.seed(seed)\n",
        "env = gym.make(game)\n",
        "env.seed(seed)\n",
        "\n",
        "PolicyIterator(env, gamma, improvementIterations, eps, evaluationIterations)"
      ],
      "metadata": {
        "colab": {
          "base_uri": "https://localhost:8080/"
        },
        "id": "XmhZkzgOPPy1",
        "outputId": "0b49d53c-2e68-48f4-bccb-87f3bdc75433"
      },
      "execution_count": null,
      "outputs": [
        {
          "output_type": "stream",
          "name": "stdout",
          "text": [
            "Best score = 0.75. Time taken = 0.0856 seconds\n"
          ]
        }
      ]
    },
    {
      "cell_type": "code",
      "source": [
        "gamma = 1\n",
        "improvementIterations = 12000\n",
        "evaluationIterations = 100\n",
        "eps = 1e-20\n",
        "seed = 4\n",
        "numpy.random.seed(seed)\n",
        "env = gym.make(game)\n",
        "env.seed(seed)\n",
        "\n",
        "PolicyIterator(env, gamma, improvementIterations, eps, evaluationIterations)"
      ],
      "metadata": {
        "colab": {
          "base_uri": "https://localhost:8080/"
        },
        "id": "N_csaae8PUf-",
        "outputId": "eae706c6-207c-4b12-f0d7-12dcb8d5b6a4"
      },
      "execution_count": null,
      "outputs": [
        {
          "output_type": "stream",
          "name": "stdout",
          "text": [
            "Best score = 0.68. Time taken = 0.0954 seconds\n"
          ]
        }
      ]
    },
    {
      "cell_type": "code",
      "source": [
        "gamma = 1\n",
        "improvementIterations = 12000\n",
        "evaluationIterations = 100\n",
        "eps = 1e-20\n",
        "seed = 2\n",
        "numpy.random.seed(seed)\n",
        "env = gym.make(game)\n",
        "env.seed(seed)\n",
        "\n",
        "PolicyIterator(env, gamma, improvementIterations, eps, evaluationIterations)"
      ],
      "metadata": {
        "colab": {
          "base_uri": "https://localhost:8080/"
        },
        "id": "ub1wXg-4PXmw",
        "outputId": "eb65da49-82dc-4e77-b299-5090941df11a"
      },
      "execution_count": null,
      "outputs": [
        {
          "output_type": "stream",
          "name": "stdout",
          "text": [
            "Best score = 0.65. Time taken = 0.0524 seconds\n"
          ]
        }
      ]
    },
    {
      "cell_type": "markdown",
      "source": [
        "## **Conclusion**"
      ],
      "metadata": {
        "id": "Hm4RaGMRPhKO"
      }
    },
    {
      "cell_type": "markdown",
      "source": [
        "1. Value Iteration performs generally better than Policy Iteration generally\n",
        "2. Seed settings fluctuate the performance of iterations\n",
        "3. the larger the gamma is the better score will be got"
      ],
      "metadata": {
        "id": "IeCER_wgPlOA"
      }
    },
    {
      "cell_type": "markdown",
      "source": [
        "## **Reference**\n",
        "https://github.com/openai/gym/issues/428\n"
      ],
      "metadata": {
        "id": "oR5N8R8SLUI5"
      }
    }
  ],
  "metadata": {
    "accelerator": "GPU",
    "colab": {
      "name": "Copy of DDA4230_ASSIGN2_ZHOULIANG_120040077.ipynb",
      "provenance": [],
      "collapsed_sections": []
    },
    "kernelspec": {
      "display_name": "d2l:Python",
      "language": "python",
      "name": "conda-env-d2l-py"
    },
    "language_info": {
      "codemirror_mode": {
        "name": "ipython",
        "version": 3
      },
      "file_extension": ".py",
      "mimetype": "text/x-python",
      "name": "python",
      "nbconvert_exporter": "python",
      "pygments_lexer": "ipython3",
      "version": "3.9.9"
    }
  },
  "nbformat": 4,
  "nbformat_minor": 0
}